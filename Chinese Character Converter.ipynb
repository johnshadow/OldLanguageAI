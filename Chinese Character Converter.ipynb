{
 "cells": [
  {
   "cell_type": "code",
   "execution_count": 5,
   "id": "f2c02159",
   "metadata": {},
   "outputs": [],
   "source": [
    "import io\n",
    "import re\n",
    "import tensorflow as tf\n",
    "import numpy as np\n",
    "import pandas as pd\n",
    "import os\n",
    "import time"
   ]
  },
  {
   "cell_type": "code",
   "execution_count": 6,
   "id": "39265b55",
   "metadata": {},
   "outputs": [],
   "source": [
    "with open('A:/WordNetwork/Unihan_Readings.txt') as file:\n",
    "    lines = file.read().splitlines()\n",
    "\n",
    "languages = ['kHanyuPinlu', 'kHanyuPinyin',\n",
    "             'kMandarin', 'kTGHZ2013', 'kXHC1983']\n",
    "cols = ['Unicode', 'Char', 'Language', 'Pinyin']\n",
    "\n",
    "pron_list = [line.strip().split('\\t') for line in lines]\n",
    "pron_list = [[item.strip() for item in line] for line in pron_list]\n",
    "pron_list = [line for line in pron_list if line[1] in languages]\n",
    "pron_list = [[line[0],chr(eval('0x'+line[0][2:])), line[1], line[2]] for line in pron_list]\n",
    "\n",
    "# Import Character_Pinyin_Table\n",
    "table = pd.read_csv('Character_Pinyin_Table.tsv', sep='\\t').set_index('Unicode')\n",
    "def getPinyinUnihan(character):\n",
    "    if character in table['Char'].values:\n",
    "        char = table.loc[(table['Char'] == character)]\n",
    "        return char['Pinyin'][0].split(':')[0].strip(\"{'\")\n",
    "    else:\n",
    "        return character"
   ]
  },
  {
   "cell_type": "code",
   "execution_count": 7,
   "id": "869791c8",
   "metadata": {},
   "outputs": [],
   "source": [
    "def readfile(filename):\n",
    "    with io.open(filename,'r',encoding='utf8') as f:\n",
    "        text = f.read()\n",
    "        return text"
   ]
  },
  {
   "cell_type": "code",
   "execution_count": 8,
   "id": "23b0c972",
   "metadata": {},
   "outputs": [],
   "source": [
    "path_to_file = readfile('A:\\WordNetwork\\sorted_pinyin_cc.txt')"
   ]
  },
  {
   "cell_type": "code",
   "execution_count": 9,
   "id": "2c208637",
   "metadata": {},
   "outputs": [
    {
     "name": "stdout",
     "output_type": "stream",
     "text": [
      "otherDict  ,\n",
      "otherDict  瓣\n",
      "otherDict  ,\n",
      "otherDict  嘶\n",
      "otherDict  ,\n",
      "otherDict  .\n"
     ]
    },
    {
     "data": {
      "text/plain": [
       "['gòng',\n",
       " 'nǐ',\n",
       " 'zhè',\n",
       " 'kè',\n",
       " 'fēn',\n",
       " 'kāi',\n",
       " 'zhī',\n",
       " 'dì',\n",
       " '',\n",
       " ',',\n",
       " 'zhān',\n",
       " 'xuè',\n",
       " 'huā',\n",
       " 'bàn',\n",
       " 'sǎn',\n",
       " 'fēi',\n",
       " ',',\n",
       " 'luàn',\n",
       " 'shì',\n",
       " 'tīng',\n",
       " 'dào',\n",
       " '',\n",
       " 'dí',\n",
       " 'shēng',\n",
       " 'sī',\n",
       " 'lì',\n",
       " 'jié',\n",
       " ',',\n",
       " 'zǒng',\n",
       " 'jué',\n",
       " 'dàng',\n",
       " 'zhōng',\n",
       " 'yǒu',\n",
       " 'nǐ',\n",
       " '',\n",
       " '.']"
      ]
     },
     "execution_count": 9,
     "metadata": {},
     "output_type": "execute_result"
    }
   ],
   "source": [
    "split_list = path_to_file.split()\n",
    "split_list = [\" \".join((v, g)) for v,g in zip(split_list[:-1:2], split_list[1::2])]\n",
    "\n",
    "def findChineseCharacter(char):\n",
    "    try:\n",
    "        if char == ' ':\n",
    "            return ''\n",
    "        res = list(filter(lambda x: char in x, split_list))\n",
    "        return res[0].split()[0]\n",
    "    except:\n",
    "        print(\"otherDict \",char)\n",
    "        return getPinyinUnihan(char) #use a slower look up table.\n",
    "list(map(findChineseCharacter, \"共你這刻分開之地 ,沾血花瓣散飛,亂世聽到 的聲嘶力竭,總覺當中有你 .\"))"
   ]
  },
  {
   "cell_type": "code",
   "execution_count": null,
   "id": "bafc0810",
   "metadata": {},
   "outputs": [],
   "source": []
  }
 ],
 "metadata": {
  "kernelspec": {
   "display_name": "Python 3 (ipykernel)",
   "language": "python",
   "name": "python3"
  },
  "language_info": {
   "codemirror_mode": {
    "name": "ipython",
    "version": 3
   },
   "file_extension": ".py",
   "mimetype": "text/x-python",
   "name": "python",
   "nbconvert_exporter": "python",
   "pygments_lexer": "ipython3",
   "version": "3.10.2"
  }
 },
 "nbformat": 4,
 "nbformat_minor": 5
}
