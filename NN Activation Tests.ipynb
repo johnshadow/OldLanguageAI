{
 "cells": [
  {
   "cell_type": "code",
   "execution_count": 2,
   "id": "f91a51f7",
   "metadata": {},
   "outputs": [
    {
     "name": "stdout",
     "output_type": "stream",
     "text": [
      "[0.01495972]\n",
      "[-0.00019912]\n",
      "[1.]\n"
     ]
    }
   ],
   "source": [
    "from numpy import exp, tanh, clip, array, random, dot, maximum, minimum, absolute\n",
    "def activation(a):\n",
    "    t = clip(a * 0.5, -1, 1)\n",
    "    return t #2 * t * t * (3.0 - 2.0 * t) - 1 #maximum(a*0.1, a) maximum(0, a)\n",
    "def derivative(a):\n",
    "     #absolute(0.75 - 0.75 * a * a) #1. * (a > 0) + 0.1 * (a < 0) #1. * (a > 0) #0.75 - 0.75*a*a\n",
    "    return 0.5 * (a > -1) * (a < 1)\n",
    "training_set_inputs = array([[0, 0, 1], [1, 1, 1], [1, 0, 1], [0, 1, 1]])\n",
    "training_set_outputs = array([[0, 1, 1, 0]]).T\n",
    "random.seed(1)\n",
    "synaptic_weights = 2 * random.random((3, 1)) - 1\n",
    "for iteration in range(0, 10000):\n",
    "    output = tanh(dot(training_set_inputs, synaptic_weights))\n",
    "    synaptic_weights += dot(training_set_inputs.T, (training_set_outputs - output) * output * output)\n",
    "print(activation(dot(array([0, 0, 1]), synaptic_weights)))\n",
    "print(activation(dot(array([0, 1, 0]), synaptic_weights)))\n",
    "print(activation(dot(array([1, 0, 0]), synaptic_weights)))"
   ]
  },
  {
   "cell_type": "code",
   "execution_count": null,
   "id": "d6c06312",
   "metadata": {},
   "outputs": [],
   "source": []
  }
 ],
 "metadata": {
  "kernelspec": {
   "display_name": "Python 3 (ipykernel)",
   "language": "python",
   "name": "python3"
  },
  "language_info": {
   "codemirror_mode": {
    "name": "ipython",
    "version": 3
   },
   "file_extension": ".py",
   "mimetype": "text/x-python",
   "name": "python",
   "nbconvert_exporter": "python",
   "pygments_lexer": "ipython3",
   "version": "3.10.2"
  }
 },
 "nbformat": 4,
 "nbformat_minor": 5
}
